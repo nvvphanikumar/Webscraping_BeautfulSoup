{
 "cells": [
  {
   "cell_type": "code",
   "execution_count": 6,
   "id": "896ffd5e",
   "metadata": {},
   "outputs": [
    {
     "name": "stdout",
     "output_type": "stream",
     "text": [
      "Link not working - movie/A_Banana_At_This_Time_of_Night-9010228\n"
     ]
    }
   ],
   "source": [
    "from bs4 import BeautifulSoup\n",
    "import requests\n",
    "\n",
    "home_page = 'https://subslikescript.com'\n",
    "\n",
    "website = f'{home_page}/movies_letter-A'\n",
    "\n",
    "result = requests.get(website)\n",
    "\n",
    "content = result.text\n",
    "\n",
    "soup = BeautifulSoup(content, 'lxml')\n",
    "\n",
    "# pagination:\n",
    "\n",
    "pagination = soup.find('ul', class_ = 'pagination')\n",
    "\n",
    "pages = pagination.find_all('li', class_ = 'page-item')\n",
    "\n",
    "#print(pages)\n",
    "\n",
    "last_page_number = pages[-2].text\n",
    "\n",
    "\n",
    "for page_number in range(1, int(last_page_number)+1)[:2]:\n",
    "    \n",
    "    website = f'{home_page}/movies_letter-A?page={page_number}' #https://subslikescript.com/movies_letter-A?page=1\n",
    "\n",
    "    result = requests.get(website)\n",
    "\n",
    "    content = result.text\n",
    "\n",
    "    soup = BeautifulSoup(content, 'lxml')\n",
    "\n",
    "\n",
    "    box = soup.find('article', class_ = 'main-article')\n",
    "\n",
    "\n",
    "    scripts = box.find_all('a', href = True)\n",
    "\n",
    "    links = []\n",
    "\n",
    "    for script in scripts:\n",
    "        links.append(script['href'])\n",
    "\n",
    "    for link in links:\n",
    "        \n",
    "        try:\n",
    "            \n",
    "            website = f'{home_page}/{link}'\n",
    "\n",
    "            result = requests.get(website)\n",
    "\n",
    "            content = result.text\n",
    "\n",
    "            soup = BeautifulSoup(content, 'lxml')\n",
    "\n",
    "            box = soup.find('article', class_ = 'main-article')\n",
    "\n",
    "            title = box.find('h1').get_text(strip = True, separator = ' ')\n",
    "\n",
    "            #print(title)\n",
    "            \n",
    "            transcript = box.find('div').get_text(strip = True, separator = ' ')\n",
    "            #print(transcript)\n",
    "            \n",
    "            with open(f'{title}.txt','w',encoding = 'utf-8') as file:\n",
    "                file.write(transcript)\n",
    "            \n",
    "        except:\n",
    "            \n",
    "            print(\"Link not working -\", link)\n",
    "\n",
    "       "
   ]
  },
  {
   "cell_type": "code",
   "execution_count": null,
   "id": "d558bdc8",
   "metadata": {},
   "outputs": [],
   "source": []
  }
 ],
 "metadata": {
  "kernelspec": {
   "display_name": "Python 3",
   "language": "python",
   "name": "python3"
  },
  "language_info": {
   "codemirror_mode": {
    "name": "ipython",
    "version": 3
   },
   "file_extension": ".py",
   "mimetype": "text/x-python",
   "name": "python",
   "nbconvert_exporter": "python",
   "pygments_lexer": "ipython3",
   "version": "3.8.8"
  }
 },
 "nbformat": 4,
 "nbformat_minor": 5
}
