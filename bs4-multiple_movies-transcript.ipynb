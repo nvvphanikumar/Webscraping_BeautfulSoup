{
 "cells": [
  {
   "cell_type": "code",
   "execution_count": 4,
   "id": "2598da51",
   "metadata": {},
   "outputs": [
    {
     "name": "stdout",
     "output_type": "stream",
     "text": [
      "Up the Front (1972) - full transcript\n",
      "One of Our Dinosaurs Is Missing (1975) - full transcript\n",
      "Death Steps in the Dark (1977) - full transcript\n",
      "Great White Shark: Beyond the Cage of Fear (2013) - full transcript\n",
      "Mackintosh and T.J. (1975) - full transcript\n",
      "The Great Smokey Roadblock (1977) - full transcript\n",
      "Murder on Flight 502 (1975) - full transcript\n",
      "Lucy and Desi: A Home Movie (1993) - full transcript\n",
      "To the Ends of Time (1996) - full transcript\n",
      "The Pickle (1993) - full transcript\n",
      "Red Mercury (1997) - full transcript\n",
      "The Planet of Junior Brown (1997) - full transcript\n",
      "In the Red (1999) - full transcript\n",
      "Kid Cop (1996) - full transcript\n",
      "The Pamela Principle (1992) - full transcript\n",
      "Spacejacked (1997) - full transcript\n",
      "The Sea Change (1998) - full transcript\n",
      "Zombie Army (1991) - full transcript\n",
      "Point of No Return (1994) - full transcript\n",
      "Sins of the Night (1993) - full transcript\n",
      "Home Page (1998) - full transcript\n",
      "Boo! (1932) - full transcript\n",
      "Kill the Golden Goose (1979) - full transcript\n",
      "Fast Break (1979) - full transcript\n",
      "Firepower (1979) - full transcript\n",
      "1870 (1972) - full transcript\n",
      "Bad Manners (1997) - full transcript\n",
      "Terminal Rush (1996) - full transcript\n",
      "Beyond Fear (1993) - full transcript\n",
      "The Legend of Dolemite (1994) - full transcript\n"
     ]
    }
   ],
   "source": [
    "from bs4 import BeautifulSoup\n",
    "import requests\n",
    "\n",
    "home_page = 'https://subslikescript.com'\n",
    "\n",
    "website = f'{home_page}/movies'\n",
    "\n",
    "result = requests.get(website)\n",
    "\n",
    "content = result.text\n",
    "\n",
    "soup = BeautifulSoup(content, 'lxml')\n",
    "\n",
    "box = soup.find('article', class_ = 'main-article')\n",
    "\n",
    "links = []\n",
    "\n",
    "scripts = box.find_all('a', href = True)\n",
    "\n",
    "for script in scripts:\n",
    "    links.append(script['href'])\n",
    "\n",
    "for link in links:\n",
    "    website = f'{home_page}/{link}'\n",
    "\n",
    "    result = requests.get(website)\n",
    "\n",
    "    content = result.text\n",
    "\n",
    "    soup = BeautifulSoup(content, 'lxml')\n",
    "    \n",
    "    box = soup.find('article', class_ = 'main-article')\n",
    "    \n",
    "    title = box.find('h1').get_text(strip = True, separator = ' ')\n",
    "\n",
    "    print(title)\n",
    "\n",
    "    transcript = box.find('div').get_text(strip = True, separator = ' ')\n",
    "    #print(transcript)\n",
    "\n",
    "    with open(f'{title}.txt','w',encoding = 'utf-8') as file:\n",
    "        file.write(transcript)"
   ]
  },
  {
   "cell_type": "code",
   "execution_count": null,
   "id": "6fdc3e3c",
   "metadata": {},
   "outputs": [],
   "source": []
  }
 ],
 "metadata": {
  "kernelspec": {
   "display_name": "Python 3",
   "language": "python",
   "name": "python3"
  },
  "language_info": {
   "codemirror_mode": {
    "name": "ipython",
    "version": 3
   },
   "file_extension": ".py",
   "mimetype": "text/x-python",
   "name": "python",
   "nbconvert_exporter": "python",
   "pygments_lexer": "ipython3",
   "version": "3.8.8"
  }
 },
 "nbformat": 4,
 "nbformat_minor": 5
}
