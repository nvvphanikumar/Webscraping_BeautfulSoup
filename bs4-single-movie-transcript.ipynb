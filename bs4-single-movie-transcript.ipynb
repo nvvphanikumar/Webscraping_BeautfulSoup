{
 "cells": [
  {
   "cell_type": "code",
   "execution_count": 20,
   "id": "377b4bde",
   "metadata": {},
   "outputs": [
    {
     "name": "stdout",
     "output_type": "stream",
     "text": [
      "Titanic (1997) - full transcript\n"
     ]
    }
   ],
   "source": [
    "from bs4 import BeautifulSoup\n",
    "import requests\n",
    "\n",
    "website = 'https://subslikescript.com/movie/Titanic-120338'\n",
    "\n",
    "result = requests.get(website)\n",
    "\n",
    "content = result.text\n",
    "\n",
    "soup = BeautifulSoup(content, 'lxml')\n",
    "\n",
    "#title = soup.title\n",
    "#print(title.prettify())\n",
    "\n",
    "#print(soup.prettify())\n",
    "\n",
    "box = soup.find('article', class_ = 'main-article')\n",
    "\n",
    "title = box.find('h1').get_text(strip = True, separator = ' ')\n",
    "\n",
    "print(title)\n",
    "\n",
    "para = box.find('p').get_text(strip = True, separator = ' ')\n",
    "#print(para)\n",
    "\n",
    "transcript = box.find('div').get_text(strip = True, separator = ' ')\n",
    "#print(transcript)\n",
    "\n",
    "with open(f'{title}.txt','w',encoding = 'utf-8') as file:\n",
    "    file.write(transcript)"
   ]
  },
  {
   "cell_type": "code",
   "execution_count": null,
   "id": "8ee61598",
   "metadata": {},
   "outputs": [],
   "source": []
  }
 ],
 "metadata": {
  "kernelspec": {
   "display_name": "Python 3",
   "language": "python",
   "name": "python3"
  },
  "language_info": {
   "codemirror_mode": {
    "name": "ipython",
    "version": 3
   },
   "file_extension": ".py",
   "mimetype": "text/x-python",
   "name": "python",
   "nbconvert_exporter": "python",
   "pygments_lexer": "ipython3",
   "version": "3.8.8"
  }
 },
 "nbformat": 4,
 "nbformat_minor": 5
}
